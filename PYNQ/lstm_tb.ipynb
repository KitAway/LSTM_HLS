{
 "cells": [
  {
   "cell_type": "code",
   "execution_count": 21,
   "metadata": {},
   "outputs": [],
   "source": [
    "## liang-ma@polito.it\n",
    "import numpy as np\n",
    "import time\n",
    "import os\n",
    "from pynq import Overlay, Xlnk\n",
    "ROOT_DIR = os.getcwd()\n",
    "#bitstream_name=os.path.join(ROOT_DIR, \"lstm_col.bit\")\n",
    "bitstream_name=os.path.join(ROOT_DIR, \"lstm_pipeline_col.bit\")\n",
    "overlay = Overlay(bitstream_name)\n",
    "#dir(overlay)"
   ]
  },
  {
   "cell_type": "code",
   "execution_count": 22,
   "metadata": {},
   "outputs": [],
   "source": [
    "def get_pynq_buffer(shape, dtype):\n",
    "    \"\"\" Simple function to call PYNQ's memory allocator with numpy attributes\n",
    "    \n",
    "    \"\"\"\n",
    "    return Xlnk().cma_array(shape, dtype)"
   ]
  },
  {
   "cell_type": "code",
   "execution_count": 23,
   "metadata": {},
   "outputs": [],
   "source": [
    "accelerator = overlay.position_0"
   ]
  },
  {
   "cell_type": "code",
   "execution_count": 24,
   "metadata": {},
   "outputs": [],
   "source": [
    "def CapaNet(accel, sensor_addr, pos_addr, samples):\n",
    "    begin = 0\n",
    "    ctrl_val = accel.read(0x00)\n",
    "    ready = not (ctrl_val & 0x1)\n",
    "    if not ready:\n",
    "        print(\"Device is not ready\")\n",
    "        return None\n",
    "    begin = time.time()\n",
    "    accel.write(0x10, sensor_addr)\n",
    "    accel.write(0x14, sensor_addr >> 32)\n",
    "    \n",
    "    accel.write(0x1c, pos_addr)\n",
    "    accel.write(0x20, pos_addr >> 32)\n",
    "                \n",
    "    accel.write(0x28, samples)\n",
    "        \n",
    "    accel.write(0x00, 0x1) # Start the accel \n",
    "\n",
    "    while not (accel.read(0x0) & 0x2):\n",
    "        pass\n",
    "    end = time.time()\n",
    "    dur = end-begin\n",
    "    return dur"
   ]
  },
  {
   "cell_type": "code",
   "execution_count": 34,
   "metadata": {},
   "outputs": [
    {
     "data": {
      "text/plain": [
       "0.6632425785064697"
      ]
     },
     "execution_count": 34,
     "metadata": {},
     "output_type": "execute_result"
    }
   ],
   "source": [
    "samples = 393000\n",
    "sensor_seq = get_pynq_buffer((samples,20), np.float)\n",
    "sensor_addr =  sensor_seq.physical_address\n",
    "pos_seq = get_pynq_buffer((samples,2), np.float)\n",
    "pos_addr =  pos_seq.physical_address\n",
    "CapaNet(accelerator,sensor_addr,pos_addr,samples)"
    "sensor_seq.close()"
    "pos_seq.close()"
   ]
  },
  {
   "cell_type": "code",
   "execution_count": null,
   "metadata": {},
   "outputs": [],
   "source": []
  }
 ],
 "metadata": {
  "kernelspec": {
   "display_name": "Python 3",
   "language": "python",
   "name": "python3"
  },
  "language_info": {
   "codemirror_mode": {
    "name": "ipython",
    "version": 3
   },
   "file_extension": ".py",
   "mimetype": "text/x-python",
   "name": "python",
   "nbconvert_exporter": "python",
   "pygments_lexer": "ipython3",
   "version": "3.6.5"
  }
 },
 "nbformat": 4,
 "nbformat_minor": 2
}
